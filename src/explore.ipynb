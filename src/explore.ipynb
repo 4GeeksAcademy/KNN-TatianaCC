{
    "cells": [
        {
            "cell_type": "markdown",
            "metadata": {},
            "source": [
                "# Explore here"
            ]
        },
        {
            "cell_type": "code",
            "execution_count": 1,
            "metadata": {},
            "outputs": [],
            "source": [
                "import pandas as pd\n",
                "import requests\n",
                "from io import StringIO"
            ]
        },
        {
            "cell_type": "code",
            "execution_count": 2,
            "metadata": {},
            "outputs": [
                {
                    "name": "stdout",
                    "output_type": "stream",
                    "text": [
                        "Raw Movies data saved\n",
                        "Raw Credits data saved\n"
                    ]
                }
            ],
            "source": [
                "#···········································#\n",
                "# NOT RUN EACH TIME, DATA ARE ALREADY SAVED #\n",
                "#···········································#\n",
                "url1 = 'https://raw.githubusercontent.com/4GeeksAcademy/k-nearest-neighbors-project-tutorial/main/tmdb_5000_movies.csv'\n",
                "url2 = 'https://raw.githubusercontent.com/4GeeksAcademy/k-nearest-neighbors-project-tutorial/main/tmdb_5000_credits.csv'\n",
                "csv1 = requests.get(url1)\n",
                "csv2 = requests.get(url2)\n",
                "\n",
                "if csv1.status_code == 200:\n",
                "    df = pd.read_csv(StringIO(csv1.content.decode('utf-8')))\n",
                "    df.to_csv('../data/raw/Movies.csv',index=False)\n",
                "    print('Raw Movies data saved')\n",
                "else:\n",
                "    print('Error in Movies: ', csv1.status_code)\n",
                "\n",
                "if csv2.status_code == 200:\n",
                "    df = pd.read_csv(StringIO(csv2.content.decode('utf-8')))\n",
                "    df.to_csv('../data/raw/Credits.csv',index=False)\n",
                "    print('Raw Credits data saved')\n",
                "else:\n",
                "    print('Error in Credits: ', csv2.status_code) "
            ]
        },
        {
            "cell_type": "code",
            "execution_count": null,
            "metadata": {},
            "outputs": [],
            "source": []
        }
    ],
    "metadata": {
        "kernelspec": {
            "display_name": "Python 3.8.13 64-bit ('3.8.13')",
            "language": "python",
            "name": "python3"
        },
        "language_info": {
            "codemirror_mode": {
                "name": "ipython",
                "version": 3
            },
            "file_extension": ".py",
            "mimetype": "text/x-python",
            "name": "python",
            "nbconvert_exporter": "python",
            "pygments_lexer": "ipython3",
            "version": "3.10.12"
        },
        "orig_nbformat": 4,
        "vscode": {
            "interpreter": {
                "hash": "110cc1dee26208153f2972f08a2ad52b6a56238dc66d48e87fb757ef2996db56"
            }
        }
    },
    "nbformat": 4,
    "nbformat_minor": 2
}
